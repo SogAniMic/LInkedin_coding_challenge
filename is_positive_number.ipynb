{
 "cells": [
  {
   "cell_type": "markdown",
   "id": "6bdc1c3e",
   "metadata": {},
   "source": [
    "# Given a string, return whether it represents a number. Here are the different kinds of numbers:\n",
    "\n",
    "\"10\", a positive integer\n",
    "\"-10\", a negative integer\n",
    "\"10.1\", a positive real number\n",
    "\"-10.1\", a negative real number\n",
    "\"1e5\", a number in scientific notation\n",
    "And here are examples of non-numbers:\n",
    "\n",
    "\"a\"\n",
    "\"x 1\"\n",
    "\"a -2\"\n",
    "\"-\""
   ]
  },
  {
   "cell_type": "code",
   "execution_count": null,
   "id": "03cc8c8b",
   "metadata": {},
   "outputs": [],
   "source": [
    " is_number(s):\n",
    "    return is_positive_number(s) or is_negative_number(s) or is_scientific_number(s)\n",
    "\n",
    "\n",
    "def is_scientific_number(s):\n",
    "    if s.count('e') != 1:\n",
    "        return False\n",
    "\n",
    "    before_e, after_e = s.split('e')\n",
    "\n",
    "    return ((is_positive_number(before_e) or is_negative_number(before_e))\n",
    "        and (is_positive_number(after_e) or is_negative_number(after_e)))\n",
    "\n",
    "def is_positive_number(s):\n",
    "    return is_positive_integer(s) or is_positive_real(s)\n",
    "\n",
    "def is_negative_number(s):\n",
    "    return is_negative_integer(s) or is_negative_real(s)\n",
    "\n",
    "\n",
    "def is_negative_real(s):\n",
    "    return s.startswith('-') and is_positive_real(s[1:])\n",
    "\n",
    "def is_positive_real(s):\n",
    "    if s.count('.') != 1:\n",
    "        return False\n",
    "\n",
    "    integer_part, decimal_part = s.split('.')\n",
    "\n",
    "    return is_positive_integer(integer_part) and is_positive_integer(decimal_part)\n",
    "\n",
    "def is_negative_integer(s):\n",
    "    return s.startswith('-') and is_positive_integer(s[1:])\n",
    "\n",
    "def is_positive_integer(s):\n",
    "    return s.isdigit()"
   ]
  }
 ],
 "metadata": {
  "kernelspec": {
   "display_name": "Python 3 (ipykernel)",
   "language": "python",
   "name": "python3"
  },
  "language_info": {
   "codemirror_mode": {
    "name": "ipython",
    "version": 3
   },
   "file_extension": ".py",
   "mimetype": "text/x-python",
   "name": "python",
   "nbconvert_exporter": "python",
   "pygments_lexer": "ipython3",
   "version": "3.9.13"
  }
 },
 "nbformat": 4,
 "nbformat_minor": 5
}
