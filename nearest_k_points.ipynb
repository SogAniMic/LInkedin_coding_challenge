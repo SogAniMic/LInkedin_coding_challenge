{
 "cells": [
  {
   "cell_type": "markdown",
   "id": "d316386f",
   "metadata": {},
   "source": [
    "# Given a list of points, a central point, and an integer k, find the nearest k points from the central point.\n",
    "\n",
    "For example, given the list of points [(0, 0), (5, 4), (3, 1)], the central point (1, 2), and k = 2, return [(0, 0), (3, 1)]."
   ]
  },
  {
   "cell_type": "code",
   "execution_count": null,
   "id": "299c4af6",
   "metadata": {},
   "outputs": [],
   "source": [
    "mport math\n",
    "\n",
    "def nearest_k_points(points, center, k):\n",
    "    if len(points) <= k:\n",
    "        return points\n",
    "\n",
    "    pq = PriorityQueue()\n",
    "\n",
    "    for point in points:\n",
    "        if len(pq) < k:\n",
    "            pq.push(point, distance(point, center))\n",
    "        else:\n",
    "            dist = distance(point, center)\n",
    "            if dist < pq.peek()[1]:\n",
    "                pq.pop()\n",
    "                pq.push(point, dist)\n",
    "\n",
    "    return [pq.pop()[0] for i in range(k)]\n",
    "\n",
    "def distance(p1, p2):\n",
    "    x1, y1 = p1\n",
    "    x2, y2 = p2\n",
    "    return math.sqrt((x1 - x2) ** 2 + (y1 - y2) ** 2)"
   ]
  }
 ],
 "metadata": {
  "kernelspec": {
   "display_name": "Python 3 (ipykernel)",
   "language": "python",
   "name": "python3"
  },
  "language_info": {
   "codemirror_mode": {
    "name": "ipython",
    "version": 3
   },
   "file_extension": ".py",
   "mimetype": "text/x-python",
   "name": "python",
   "nbconvert_exporter": "python",
   "pygments_lexer": "ipython3",
   "version": "3.9.13"
  }
 },
 "nbformat": 4,
 "nbformat_minor": 5
}
