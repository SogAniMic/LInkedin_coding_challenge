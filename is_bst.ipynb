{
 "cells": [
  {
   "cell_type": "markdown",
   "id": "f5580a6c",
   "metadata": {},
   "source": [
    "# Determine whether a tree is a valid binary search tree.\n",
    "\n",
    "A binary search tree is a tree with two children, left and right, and satisfies the constraint that the key in the left child must be less than or equal to the root and the key in the right child must be greater than or equal to the root."
   ]
  },
  {
   "cell_type": "code",
   "execution_count": null,
   "id": "6e6caa60",
   "metadata": {},
   "outputs": [],
   "source": [
    "class TreeNode:\n",
    "    def __init__(self, key):\n",
    "        self.left = None\n",
    "        self.right = None\n",
    "        self.key = key\n",
    "\n",
    "def is_bst(root):\n",
    "    def is_bst_helper(root, min_key, max_key):\n",
    "        if root is None:\n",
    "            return True\n",
    "        if root.key <= min_key or root.key >= max_key:\n",
    "            return False\n",
    "        return is_bst_helper(root.left, min_key, root.key) and \\\n",
    "               is_bst_helper(root.right, root.key, max_key)\n",
    "\n",
    "    return is_bst_helper(root, float('-inf'), float('inf'))"
   ]
  }
 ],
 "metadata": {
  "kernelspec": {
   "display_name": "Python 3 (ipykernel)",
   "language": "python",
   "name": "python3"
  },
  "language_info": {
   "codemirror_mode": {
    "name": "ipython",
    "version": 3
   },
   "file_extension": ".py",
   "mimetype": "text/x-python",
   "name": "python",
   "nbconvert_exporter": "python",
   "pygments_lexer": "ipython3",
   "version": "3.9.13"
  }
 },
 "nbformat": 4,
 "nbformat_minor": 5
}
